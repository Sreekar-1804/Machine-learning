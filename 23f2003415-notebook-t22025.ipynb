{
 "cells": [
  {
   "cell_type": "markdown",
   "id": "c4c55d58",
   "metadata": {
    "papermill": {
     "duration": 0.00771,
     "end_time": "2025-08-08T17:22:55.056496",
     "exception": false,
     "start_time": "2025-08-08T17:22:55.048786",
     "status": "completed"
    },
    "tags": []
   },
   "source": [
    "# MLP Project "
   ]
  },
  {
   "cell_type": "code",
   "execution_count": 1,
   "id": "4d331f0e",
   "metadata": {
    "_cell_guid": "b1076dfc-b9ad-4769-8c92-a6c4dae69d19",
    "_uuid": "8f2839f25d086af736a60e9eeb907d3b93b6e0e5",
    "execution": {
     "iopub.execute_input": "2025-08-08T17:22:55.072032Z",
     "iopub.status.busy": "2025-08-08T17:22:55.071607Z",
     "iopub.status.idle": "2025-08-08T17:22:57.269812Z",
     "shell.execute_reply": "2025-08-08T17:22:57.268792Z"
    },
    "papermill": {
     "duration": 2.208064,
     "end_time": "2025-08-08T17:22:57.271516",
     "exception": false,
     "start_time": "2025-08-08T17:22:55.063452",
     "status": "completed"
    },
    "tags": []
   },
   "outputs": [
    {
     "name": "stdout",
     "output_type": "stream",
     "text": [
      "/kaggle/input/engage-2-value-from-clicks-to-conversions/sample_submission.csv\n",
      "/kaggle/input/engage-2-value-from-clicks-to-conversions/train_data.csv\n",
      "/kaggle/input/engage-2-value-from-clicks-to-conversions/test_data.csv\n"
     ]
    }
   ],
   "source": [
    "# This Python 3 environment comes with many helpful analytics libraries installed\n",
    "# It is defined by the kaggle/python Docker image: https://github.com/kaggle/docker-python\n",
    "# For example, here's several helpful packages to load\n",
    "\n",
    "import numpy as np # linear algebra\n",
    "import pandas as pd # data processing, CSV file I/O (e.g. pd.read_csv)\n",
    "\n",
    "# Input data files are available in the read-only \"../input/\" directory\n",
    "# For example, running this (by clicking run or pressing Shift+Enter) will list all files under the input directory\n",
    "\n",
    "import os\n",
    "for dirname, _, filenames in os.walk('/kaggle/input'):\n",
    "    for filename in filenames:\n",
    "        print(os.path.join(dirname, filename))\n",
    "\n",
    "# You can write up to 20GB to the current directory (/kaggle/working/) that gets preserved as output when you create a version using \"Save & Run All\" \n",
    "# You can also write temporary files to /kaggle/temp/, but they won't be saved outside of the current session"
   ]
  },
  {
   "cell_type": "markdown",
   "id": "3c444ccd",
   "metadata": {
    "papermill": {
     "duration": 0.006587,
     "end_time": "2025-08-08T17:22:57.285151",
     "exception": false,
     "start_time": "2025-08-08T17:22:57.278564",
     "status": "completed"
    },
    "tags": []
   },
   "source": [
    "**1. Imports & Setup**\n",
    "\n",
    "In this step, we import all necessary libraries such as pandas, numpy for data handling,\n",
    "matplotlib and seaborn for visualization, and scikit-learn/xgboost for modeling."
   ]
  },
  {
   "cell_type": "code",
   "execution_count": 2,
   "id": "b44b623a",
   "metadata": {
    "execution": {
     "iopub.execute_input": "2025-08-08T17:22:57.300422Z",
     "iopub.status.busy": "2025-08-08T17:22:57.300011Z",
     "iopub.status.idle": "2025-08-08T17:23:00.685671Z",
     "shell.execute_reply": "2025-08-08T17:23:00.684539Z"
    },
    "papermill": {
     "duration": 3.395478,
     "end_time": "2025-08-08T17:23:00.687449",
     "exception": false,
     "start_time": "2025-08-08T17:22:57.291971",
     "status": "completed"
    },
    "tags": []
   },
   "outputs": [],
   "source": [
    "import pandas as pd\n",
    "import numpy as np\n",
    "from sklearn.impute import SimpleImputer\n",
    "from sklearn.preprocessing import OneHotEncoder\n",
    "from sklearn.compose import ColumnTransformer\n",
    "from sklearn.pipeline import Pipeline\n",
    "from sklearn.model_selection import cross_val_score\n",
    "from sklearn.linear_model import LinearRegression, Ridge\n",
    "from sklearn.ensemble import RandomForestRegressor\n",
    "from xgboost import XGBRegressor\n",
    "import matplotlib.pyplot as plt\n",
    "import seaborn as sns"
   ]
  },
  {
   "cell_type": "markdown",
   "id": "eea645f7",
   "metadata": {
    "papermill": {
     "duration": 0.007055,
     "end_time": "2025-08-08T17:23:00.701785",
     "exception": false,
     "start_time": "2025-08-08T17:23:00.694730",
     "status": "completed"
    },
    "tags": []
   },
   "source": [
    "**2. Load Data**\n",
    "\n",
    "We load the training, testing, and sample submission files using pandas.\n",
    "Initial inspection includes checking shapes and missing values to understand the dataset structure.\n",
    "Read train, test, and sample submission files. Print dataset shapes and check for missing values."
   ]
  },
  {
   "cell_type": "code",
   "execution_count": 3,
   "id": "beeb25ca",
   "metadata": {
    "execution": {
     "iopub.execute_input": "2025-08-08T17:23:00.716641Z",
     "iopub.status.busy": "2025-08-08T17:23:00.716147Z",
     "iopub.status.idle": "2025-08-08T17:23:04.400336Z",
     "shell.execute_reply": "2025-08-08T17:23:04.399272Z"
    },
    "papermill": {
     "duration": 3.693673,
     "end_time": "2025-08-08T17:23:04.402066",
     "exception": false,
     "start_time": "2025-08-08T17:23:00.708393",
     "status": "completed"
    },
    "tags": []
   },
   "outputs": [],
   "source": [
    "train_df = pd.read_csv(\"/kaggle/input/engage-2-value-from-clicks-to-conversions/train_data.csv\")\n",
    "test_df = pd.read_csv(\"/kaggle/input/engage-2-value-from-clicks-to-conversions/test_data.csv\")\n",
    "sample_submission = pd.read_csv(\"/kaggle/input/engage-2-value-from-clicks-to-conversions/sample_submission.csv\")"
   ]
  },
  {
   "cell_type": "code",
   "execution_count": 4,
   "id": "59fc0e44",
   "metadata": {
    "execution": {
     "iopub.execute_input": "2025-08-08T17:23:04.418512Z",
     "iopub.status.busy": "2025-08-08T17:23:04.418143Z",
     "iopub.status.idle": "2025-08-08T17:23:04.445188Z",
     "shell.execute_reply": "2025-08-08T17:23:04.444099Z"
    },
    "papermill": {
     "duration": 0.037649,
     "end_time": "2025-08-08T17:23:04.446994",
     "exception": false,
     "start_time": "2025-08-08T17:23:04.409345",
     "status": "completed"
    },
    "tags": []
   },
   "outputs": [
    {
     "data": {
      "text/html": [
       "<div>\n",
       "<style scoped>\n",
       "    .dataframe tbody tr th:only-of-type {\n",
       "        vertical-align: middle;\n",
       "    }\n",
       "\n",
       "    .dataframe tbody tr th {\n",
       "        vertical-align: top;\n",
       "    }\n",
       "\n",
       "    .dataframe thead th {\n",
       "        text-align: right;\n",
       "    }\n",
       "</style>\n",
       "<table border=\"1\" class=\"dataframe\">\n",
       "  <thead>\n",
       "    <tr style=\"text-align: right;\">\n",
       "      <th></th>\n",
       "      <th>ID</th>\n",
       "      <th>purchaseValue</th>\n",
       "    </tr>\n",
       "  </thead>\n",
       "  <tbody>\n",
       "    <tr>\n",
       "      <th>0</th>\n",
       "      <td>0</td>\n",
       "      <td>0.0</td>\n",
       "    </tr>\n",
       "    <tr>\n",
       "      <th>1</th>\n",
       "      <td>1</td>\n",
       "      <td>0.0</td>\n",
       "    </tr>\n",
       "    <tr>\n",
       "      <th>2</th>\n",
       "      <td>2</td>\n",
       "      <td>0.0</td>\n",
       "    </tr>\n",
       "    <tr>\n",
       "      <th>3</th>\n",
       "      <td>3</td>\n",
       "      <td>0.0</td>\n",
       "    </tr>\n",
       "    <tr>\n",
       "      <th>4</th>\n",
       "      <td>4</td>\n",
       "      <td>0.0</td>\n",
       "    </tr>\n",
       "  </tbody>\n",
       "</table>\n",
       "</div>"
      ],
      "text/plain": [
       "   ID  purchaseValue\n",
       "0   0            0.0\n",
       "1   1            0.0\n",
       "2   2            0.0\n",
       "3   3            0.0\n",
       "4   4            0.0"
      ]
     },
     "execution_count": 4,
     "metadata": {},
     "output_type": "execute_result"
    }
   ],
   "source": [
    "sample_submission.head()"
   ]
  },
  {
   "cell_type": "code",
   "execution_count": 5,
   "id": "404aa87c",
   "metadata": {
    "execution": {
     "iopub.execute_input": "2025-08-08T17:23:04.462042Z",
     "iopub.status.busy": "2025-08-08T17:23:04.461730Z",
     "iopub.status.idle": "2025-08-08T17:23:04.493962Z",
     "shell.execute_reply": "2025-08-08T17:23:04.492796Z"
    },
    "papermill": {
     "duration": 0.042029,
     "end_time": "2025-08-08T17:23:04.496002",
     "exception": false,
     "start_time": "2025-08-08T17:23:04.453973",
     "status": "completed"
    },
    "tags": []
   },
   "outputs": [
    {
     "name": "stderr",
     "output_type": "stream",
     "text": [
      "/usr/local/lib/python3.11/dist-packages/pandas/io/formats/format.py:1458: RuntimeWarning: invalid value encountered in greater\n",
      "  has_large_values = (abs_vals > 1e6).any()\n",
      "/usr/local/lib/python3.11/dist-packages/pandas/io/formats/format.py:1459: RuntimeWarning: invalid value encountered in less\n",
      "  has_small_values = ((abs_vals < 10 ** (-self.digits)) & (abs_vals > 0)).any()\n",
      "/usr/local/lib/python3.11/dist-packages/pandas/io/formats/format.py:1459: RuntimeWarning: invalid value encountered in greater\n",
      "  has_small_values = ((abs_vals < 10 ** (-self.digits)) & (abs_vals > 0)).any()\n",
      "/usr/local/lib/python3.11/dist-packages/pandas/io/formats/format.py:1458: RuntimeWarning: invalid value encountered in greater\n",
      "  has_large_values = (abs_vals > 1e6).any()\n",
      "/usr/local/lib/python3.11/dist-packages/pandas/io/formats/format.py:1459: RuntimeWarning: invalid value encountered in less\n",
      "  has_small_values = ((abs_vals < 10 ** (-self.digits)) & (abs_vals > 0)).any()\n",
      "/usr/local/lib/python3.11/dist-packages/pandas/io/formats/format.py:1459: RuntimeWarning: invalid value encountered in greater\n",
      "  has_small_values = ((abs_vals < 10 ** (-self.digits)) & (abs_vals > 0)).any()\n"
     ]
    },
    {
     "data": {
      "text/html": [
       "<div>\n",
       "<style scoped>\n",
       "    .dataframe tbody tr th:only-of-type {\n",
       "        vertical-align: middle;\n",
       "    }\n",
       "\n",
       "    .dataframe tbody tr th {\n",
       "        vertical-align: top;\n",
       "    }\n",
       "\n",
       "    .dataframe thead th {\n",
       "        text-align: right;\n",
       "    }\n",
       "</style>\n",
       "<table border=\"1\" class=\"dataframe\">\n",
       "  <thead>\n",
       "    <tr style=\"text-align: right;\">\n",
       "      <th></th>\n",
       "      <th>trafficSource.isTrueDirect</th>\n",
       "      <th>purchaseValue</th>\n",
       "      <th>browser</th>\n",
       "      <th>device.screenResolution</th>\n",
       "      <th>trafficSource.adContent</th>\n",
       "      <th>trafficSource.keyword</th>\n",
       "      <th>screenSize</th>\n",
       "      <th>geoCluster</th>\n",
       "      <th>trafficSource.adwordsClickInfo.slot</th>\n",
       "      <th>device.mobileDeviceBranding</th>\n",
       "      <th>...</th>\n",
       "      <th>device.language</th>\n",
       "      <th>deviceType</th>\n",
       "      <th>userChannel</th>\n",
       "      <th>device.browserVersion</th>\n",
       "      <th>totalHits</th>\n",
       "      <th>device.screenColors</th>\n",
       "      <th>sessionStart</th>\n",
       "      <th>geoNetwork.continent</th>\n",
       "      <th>device.isMobile</th>\n",
       "      <th>new_visits</th>\n",
       "    </tr>\n",
       "  </thead>\n",
       "  <tbody>\n",
       "    <tr>\n",
       "      <th>0</th>\n",
       "      <td>NaN</td>\n",
       "      <td>0.0</td>\n",
       "      <td>Edge</td>\n",
       "      <td>not available in demo dataset</td>\n",
       "      <td>NaN</td>\n",
       "      <td>NaN</td>\n",
       "      <td>medium</td>\n",
       "      <td>Region_2</td>\n",
       "      <td>NaN</td>\n",
       "      <td>not available in demo dataset</td>\n",
       "      <td>...</td>\n",
       "      <td>not available in demo dataset</td>\n",
       "      <td>desktop</td>\n",
       "      <td>Social</td>\n",
       "      <td>not available in demo dataset</td>\n",
       "      <td>1</td>\n",
       "      <td>not available in demo dataset</td>\n",
       "      <td>1500100799</td>\n",
       "      <td>Americas</td>\n",
       "      <td>False</td>\n",
       "      <td>1.0</td>\n",
       "    </tr>\n",
       "    <tr>\n",
       "      <th>1</th>\n",
       "      <td>True</td>\n",
       "      <td>0.0</td>\n",
       "      <td>Chrome</td>\n",
       "      <td>not available in demo dataset</td>\n",
       "      <td>NaN</td>\n",
       "      <td>NaN</td>\n",
       "      <td>medium</td>\n",
       "      <td>Region_3</td>\n",
       "      <td>NaN</td>\n",
       "      <td>not available in demo dataset</td>\n",
       "      <td>...</td>\n",
       "      <td>not available in demo dataset</td>\n",
       "      <td>desktop</td>\n",
       "      <td>Direct</td>\n",
       "      <td>not available in demo dataset</td>\n",
       "      <td>1</td>\n",
       "      <td>not available in demo dataset</td>\n",
       "      <td>1495262065</td>\n",
       "      <td>Americas</td>\n",
       "      <td>False</td>\n",
       "      <td>1.0</td>\n",
       "    </tr>\n",
       "    <tr>\n",
       "      <th>2</th>\n",
       "      <td>True</td>\n",
       "      <td>0.0</td>\n",
       "      <td>Chrome</td>\n",
       "      <td>not available in demo dataset</td>\n",
       "      <td>NaN</td>\n",
       "      <td>(not provided)</td>\n",
       "      <td>medium</td>\n",
       "      <td>Region_2</td>\n",
       "      <td>NaN</td>\n",
       "      <td>not available in demo dataset</td>\n",
       "      <td>...</td>\n",
       "      <td>not available in demo dataset</td>\n",
       "      <td>desktop</td>\n",
       "      <td>Organic Search</td>\n",
       "      <td>not available in demo dataset</td>\n",
       "      <td>6</td>\n",
       "      <td>not available in demo dataset</td>\n",
       "      <td>1508510328</td>\n",
       "      <td>Europe</td>\n",
       "      <td>False</td>\n",
       "      <td>NaN</td>\n",
       "    </tr>\n",
       "    <tr>\n",
       "      <th>3</th>\n",
       "      <td>NaN</td>\n",
       "      <td>0.0</td>\n",
       "      <td>Internet Explorer</td>\n",
       "      <td>not available in demo dataset</td>\n",
       "      <td>NaN</td>\n",
       "      <td>NaN</td>\n",
       "      <td>medium</td>\n",
       "      <td>Region_4</td>\n",
       "      <td>NaN</td>\n",
       "      <td>not available in demo dataset</td>\n",
       "      <td>...</td>\n",
       "      <td>not available in demo dataset</td>\n",
       "      <td>desktop</td>\n",
       "      <td>Social</td>\n",
       "      <td>not available in demo dataset</td>\n",
       "      <td>1</td>\n",
       "      <td>not available in demo dataset</td>\n",
       "      <td>1483431838</td>\n",
       "      <td>Asia</td>\n",
       "      <td>False</td>\n",
       "      <td>1.0</td>\n",
       "    </tr>\n",
       "    <tr>\n",
       "      <th>4</th>\n",
       "      <td>True</td>\n",
       "      <td>88950000.0</td>\n",
       "      <td>Chrome</td>\n",
       "      <td>not available in demo dataset</td>\n",
       "      <td>NaN</td>\n",
       "      <td>NaN</td>\n",
       "      <td>medium</td>\n",
       "      <td>Region_3</td>\n",
       "      <td>NaN</td>\n",
       "      <td>not available in demo dataset</td>\n",
       "      <td>...</td>\n",
       "      <td>not available in demo dataset</td>\n",
       "      <td>desktop</td>\n",
       "      <td>Direct</td>\n",
       "      <td>not available in demo dataset</td>\n",
       "      <td>66</td>\n",
       "      <td>not available in demo dataset</td>\n",
       "      <td>1475804633</td>\n",
       "      <td>Americas</td>\n",
       "      <td>False</td>\n",
       "      <td>1.0</td>\n",
       "    </tr>\n",
       "  </tbody>\n",
       "</table>\n",
       "<p>5 rows × 52 columns</p>\n",
       "</div>"
      ],
      "text/plain": [
       "  trafficSource.isTrueDirect  purchaseValue            browser  \\\n",
       "0                        NaN            0.0               Edge   \n",
       "1                       True            0.0             Chrome   \n",
       "2                       True            0.0             Chrome   \n",
       "3                        NaN            0.0  Internet Explorer   \n",
       "4                       True     88950000.0             Chrome   \n",
       "\n",
       "         device.screenResolution trafficSource.adContent  \\\n",
       "0  not available in demo dataset                     NaN   \n",
       "1  not available in demo dataset                     NaN   \n",
       "2  not available in demo dataset                     NaN   \n",
       "3  not available in demo dataset                     NaN   \n",
       "4  not available in demo dataset                     NaN   \n",
       "\n",
       "  trafficSource.keyword screenSize geoCluster  \\\n",
       "0                   NaN     medium   Region_2   \n",
       "1                   NaN     medium   Region_3   \n",
       "2        (not provided)     medium   Region_2   \n",
       "3                   NaN     medium   Region_4   \n",
       "4                   NaN     medium   Region_3   \n",
       "\n",
       "  trafficSource.adwordsClickInfo.slot    device.mobileDeviceBranding  ...  \\\n",
       "0                                 NaN  not available in demo dataset  ...   \n",
       "1                                 NaN  not available in demo dataset  ...   \n",
       "2                                 NaN  not available in demo dataset  ...   \n",
       "3                                 NaN  not available in demo dataset  ...   \n",
       "4                                 NaN  not available in demo dataset  ...   \n",
       "\n",
       "                 device.language  deviceType     userChannel  \\\n",
       "0  not available in demo dataset     desktop          Social   \n",
       "1  not available in demo dataset     desktop          Direct   \n",
       "2  not available in demo dataset     desktop  Organic Search   \n",
       "3  not available in demo dataset     desktop          Social   \n",
       "4  not available in demo dataset     desktop          Direct   \n",
       "\n",
       "           device.browserVersion totalHits            device.screenColors  \\\n",
       "0  not available in demo dataset         1  not available in demo dataset   \n",
       "1  not available in demo dataset         1  not available in demo dataset   \n",
       "2  not available in demo dataset         6  not available in demo dataset   \n",
       "3  not available in demo dataset         1  not available in demo dataset   \n",
       "4  not available in demo dataset        66  not available in demo dataset   \n",
       "\n",
       "  sessionStart  geoNetwork.continent device.isMobile new_visits  \n",
       "0   1500100799              Americas           False        1.0  \n",
       "1   1495262065              Americas           False        1.0  \n",
       "2   1508510328                Europe           False        NaN  \n",
       "3   1483431838                  Asia           False        1.0  \n",
       "4   1475804633              Americas           False        1.0  \n",
       "\n",
       "[5 rows x 52 columns]"
      ]
     },
     "execution_count": 5,
     "metadata": {},
     "output_type": "execute_result"
    }
   ],
   "source": [
    "train_df.head()"
   ]
  },
  {
   "cell_type": "code",
   "execution_count": 6,
   "id": "10b9c708",
   "metadata": {
    "execution": {
     "iopub.execute_input": "2025-08-08T17:23:04.511837Z",
     "iopub.status.busy": "2025-08-08T17:23:04.511501Z",
     "iopub.status.idle": "2025-08-08T17:23:04.517697Z",
     "shell.execute_reply": "2025-08-08T17:23:04.516807Z"
    },
    "papermill": {
     "duration": 0.015828,
     "end_time": "2025-08-08T17:23:04.519174",
     "exception": false,
     "start_time": "2025-08-08T17:23:04.503346",
     "status": "completed"
    },
    "tags": []
   },
   "outputs": [
    {
     "data": {
      "text/plain": [
       "(116023, 52)"
      ]
     },
     "execution_count": 6,
     "metadata": {},
     "output_type": "execute_result"
    }
   ],
   "source": [
    "train_df.shape"
   ]
  },
  {
   "cell_type": "code",
   "execution_count": 7,
   "id": "8e69127a",
   "metadata": {
    "execution": {
     "iopub.execute_input": "2025-08-08T17:23:04.536515Z",
     "iopub.status.busy": "2025-08-08T17:23:04.535387Z",
     "iopub.status.idle": "2025-08-08T17:23:04.650530Z",
     "shell.execute_reply": "2025-08-08T17:23:04.649573Z"
    },
    "papermill": {
     "duration": 0.125498,
     "end_time": "2025-08-08T17:23:04.652355",
     "exception": false,
     "start_time": "2025-08-08T17:23:04.526857",
     "status": "completed"
    },
    "tags": []
   },
   "outputs": [
    {
     "data": {
      "text/html": [
       "<div>\n",
       "<style scoped>\n",
       "    .dataframe tbody tr th:only-of-type {\n",
       "        vertical-align: middle;\n",
       "    }\n",
       "\n",
       "    .dataframe tbody tr th {\n",
       "        vertical-align: top;\n",
       "    }\n",
       "\n",
       "    .dataframe thead th {\n",
       "        text-align: right;\n",
       "    }\n",
       "</style>\n",
       "<table border=\"1\" class=\"dataframe\">\n",
       "  <thead>\n",
       "    <tr style=\"text-align: right;\">\n",
       "      <th></th>\n",
       "      <th>purchaseValue</th>\n",
       "      <th>userId</th>\n",
       "      <th>gclIdPresent</th>\n",
       "      <th>sessionNumber</th>\n",
       "      <th>totals.visits</th>\n",
       "      <th>sessionId</th>\n",
       "      <th>trafficSource.adwordsClickInfo.page</th>\n",
       "      <th>pageViews</th>\n",
       "      <th>locationZone</th>\n",
       "      <th>totals.bounces</th>\n",
       "      <th>date</th>\n",
       "      <th>totalHits</th>\n",
       "      <th>sessionStart</th>\n",
       "      <th>new_visits</th>\n",
       "    </tr>\n",
       "  </thead>\n",
       "  <tbody>\n",
       "    <tr>\n",
       "      <th>count</th>\n",
       "      <td>1.160230e+05</td>\n",
       "      <td>116023.000000</td>\n",
       "      <td>116023.000000</td>\n",
       "      <td>116023.000000</td>\n",
       "      <td>116023.0</td>\n",
       "      <td>1.160230e+05</td>\n",
       "      <td>4281.000000</td>\n",
       "      <td>116015.000000</td>\n",
       "      <td>116023.0</td>\n",
       "      <td>47148.0</td>\n",
       "      <td>1.160230e+05</td>\n",
       "      <td>116023.000000</td>\n",
       "      <td>1.160230e+05</td>\n",
       "      <td>80518.0</td>\n",
       "    </tr>\n",
       "    <tr>\n",
       "      <th>mean</th>\n",
       "      <td>2.656393e+07</td>\n",
       "      <td>61094.356231</td>\n",
       "      <td>0.037019</td>\n",
       "      <td>2.691311</td>\n",
       "      <td>1.0</td>\n",
       "      <td>1.493429e+09</td>\n",
       "      <td>1.019622</td>\n",
       "      <td>8.412352</td>\n",
       "      <td>8.0</td>\n",
       "      <td>1.0</td>\n",
       "      <td>2.016860e+07</td>\n",
       "      <td>10.607371</td>\n",
       "      <td>1.493429e+09</td>\n",
       "      <td>1.0</td>\n",
       "    </tr>\n",
       "    <tr>\n",
       "      <th>std</th>\n",
       "      <td>2.051825e+08</td>\n",
       "      <td>35240.756859</td>\n",
       "      <td>0.188808</td>\n",
       "      <td>10.451613</td>\n",
       "      <td>0.0</td>\n",
       "      <td>1.528798e+07</td>\n",
       "      <td>0.174517</td>\n",
       "      <td>14.344937</td>\n",
       "      <td>0.0</td>\n",
       "      <td>0.0</td>\n",
       "      <td>6.182322e+03</td>\n",
       "      <td>19.629576</td>\n",
       "      <td>1.528798e+07</td>\n",
       "      <td>0.0</td>\n",
       "    </tr>\n",
       "    <tr>\n",
       "      <th>min</th>\n",
       "      <td>0.000000e+00</td>\n",
       "      <td>0.000000</td>\n",
       "      <td>0.000000</td>\n",
       "      <td>1.000000</td>\n",
       "      <td>1.0</td>\n",
       "      <td>1.470035e+09</td>\n",
       "      <td>1.000000</td>\n",
       "      <td>1.000000</td>\n",
       "      <td>8.0</td>\n",
       "      <td>1.0</td>\n",
       "      <td>2.016080e+07</td>\n",
       "      <td>1.000000</td>\n",
       "      <td>1.470035e+09</td>\n",
       "      <td>1.0</td>\n",
       "    </tr>\n",
       "    <tr>\n",
       "      <th>25%</th>\n",
       "      <td>0.000000e+00</td>\n",
       "      <td>30603.500000</td>\n",
       "      <td>0.000000</td>\n",
       "      <td>1.000000</td>\n",
       "      <td>1.0</td>\n",
       "      <td>1.480066e+09</td>\n",
       "      <td>1.000000</td>\n",
       "      <td>1.000000</td>\n",
       "      <td>8.0</td>\n",
       "      <td>1.0</td>\n",
       "      <td>2.016112e+07</td>\n",
       "      <td>1.000000</td>\n",
       "      <td>1.480066e+09</td>\n",
       "      <td>1.0</td>\n",
       "    </tr>\n",
       "    <tr>\n",
       "      <th>50%</th>\n",
       "      <td>0.000000e+00</td>\n",
       "      <td>61014.000000</td>\n",
       "      <td>0.000000</td>\n",
       "      <td>1.000000</td>\n",
       "      <td>1.0</td>\n",
       "      <td>1.491646e+09</td>\n",
       "      <td>1.000000</td>\n",
       "      <td>2.000000</td>\n",
       "      <td>8.0</td>\n",
       "      <td>1.0</td>\n",
       "      <td>2.017041e+07</td>\n",
       "      <td>2.000000</td>\n",
       "      <td>1.491646e+09</td>\n",
       "      <td>1.0</td>\n",
       "    </tr>\n",
       "    <tr>\n",
       "      <th>75%</th>\n",
       "      <td>0.000000e+00</td>\n",
       "      <td>91616.500000</td>\n",
       "      <td>0.000000</td>\n",
       "      <td>2.000000</td>\n",
       "      <td>1.0</td>\n",
       "      <td>1.505079e+09</td>\n",
       "      <td>1.000000</td>\n",
       "      <td>10.000000</td>\n",
       "      <td>8.0</td>\n",
       "      <td>1.0</td>\n",
       "      <td>2.017091e+07</td>\n",
       "      <td>12.000000</td>\n",
       "      <td>1.505079e+09</td>\n",
       "      <td>1.0</td>\n",
       "    </tr>\n",
       "    <tr>\n",
       "      <th>max</th>\n",
       "      <td>2.312950e+10</td>\n",
       "      <td>122276.000000</td>\n",
       "      <td>1.000000</td>\n",
       "      <td>447.000000</td>\n",
       "      <td>1.0</td>\n",
       "      <td>1.525157e+09</td>\n",
       "      <td>5.000000</td>\n",
       "      <td>469.000000</td>\n",
       "      <td>8.0</td>\n",
       "      <td>1.0</td>\n",
       "      <td>2.018043e+07</td>\n",
       "      <td>500.000000</td>\n",
       "      <td>1.525157e+09</td>\n",
       "      <td>1.0</td>\n",
       "    </tr>\n",
       "  </tbody>\n",
       "</table>\n",
       "</div>"
      ],
      "text/plain": [
       "       purchaseValue         userId   gclIdPresent  sessionNumber  \\\n",
       "count   1.160230e+05  116023.000000  116023.000000  116023.000000   \n",
       "mean    2.656393e+07   61094.356231       0.037019       2.691311   \n",
       "std     2.051825e+08   35240.756859       0.188808      10.451613   \n",
       "min     0.000000e+00       0.000000       0.000000       1.000000   \n",
       "25%     0.000000e+00   30603.500000       0.000000       1.000000   \n",
       "50%     0.000000e+00   61014.000000       0.000000       1.000000   \n",
       "75%     0.000000e+00   91616.500000       0.000000       2.000000   \n",
       "max     2.312950e+10  122276.000000       1.000000     447.000000   \n",
       "\n",
       "       totals.visits     sessionId  trafficSource.adwordsClickInfo.page  \\\n",
       "count       116023.0  1.160230e+05                          4281.000000   \n",
       "mean             1.0  1.493429e+09                             1.019622   \n",
       "std              0.0  1.528798e+07                             0.174517   \n",
       "min              1.0  1.470035e+09                             1.000000   \n",
       "25%              1.0  1.480066e+09                             1.000000   \n",
       "50%              1.0  1.491646e+09                             1.000000   \n",
       "75%              1.0  1.505079e+09                             1.000000   \n",
       "max              1.0  1.525157e+09                             5.000000   \n",
       "\n",
       "           pageViews  locationZone  totals.bounces          date  \\\n",
       "count  116015.000000      116023.0         47148.0  1.160230e+05   \n",
       "mean        8.412352           8.0             1.0  2.016860e+07   \n",
       "std        14.344937           0.0             0.0  6.182322e+03   \n",
       "min         1.000000           8.0             1.0  2.016080e+07   \n",
       "25%         1.000000           8.0             1.0  2.016112e+07   \n",
       "50%         2.000000           8.0             1.0  2.017041e+07   \n",
       "75%        10.000000           8.0             1.0  2.017091e+07   \n",
       "max       469.000000           8.0             1.0  2.018043e+07   \n",
       "\n",
       "           totalHits  sessionStart  new_visits  \n",
       "count  116023.000000  1.160230e+05     80518.0  \n",
       "mean       10.607371  1.493429e+09         1.0  \n",
       "std        19.629576  1.528798e+07         0.0  \n",
       "min         1.000000  1.470035e+09         1.0  \n",
       "25%         1.000000  1.480066e+09         1.0  \n",
       "50%         2.000000  1.491646e+09         1.0  \n",
       "75%        12.000000  1.505079e+09         1.0  \n",
       "max       500.000000  1.525157e+09         1.0  "
      ]
     },
     "execution_count": 7,
     "metadata": {},
     "output_type": "execute_result"
    }
   ],
   "source": [
    "train_df.describe()"
   ]
  },
  {
   "cell_type": "code",
   "execution_count": 8,
   "id": "65b00577",
   "metadata": {
    "execution": {
     "iopub.execute_input": "2025-08-08T17:23:04.669520Z",
     "iopub.status.busy": "2025-08-08T17:23:04.669143Z",
     "iopub.status.idle": "2025-08-08T17:23:04.904772Z",
     "shell.execute_reply": "2025-08-08T17:23:04.903309Z"
    },
    "papermill": {
     "duration": 0.246092,
     "end_time": "2025-08-08T17:23:04.906443",
     "exception": false,
     "start_time": "2025-08-08T17:23:04.660351",
     "status": "completed"
    },
    "tags": []
   },
   "outputs": [
    {
     "name": "stdout",
     "output_type": "stream",
     "text": [
      "<class 'pandas.core.frame.DataFrame'>\n",
      "RangeIndex: 116023 entries, 0 to 116022\n",
      "Data columns (total 52 columns):\n",
      " #   Column                                        Non-Null Count   Dtype  \n",
      "---  ------                                        --------------   -----  \n",
      " 0   trafficSource.isTrueDirect                    42890 non-null   object \n",
      " 1   purchaseValue                                 116023 non-null  float64\n",
      " 2   browser                                       116023 non-null  object \n",
      " 3   device.screenResolution                       116023 non-null  object \n",
      " 4   trafficSource.adContent                       2963 non-null    object \n",
      " 5   trafficSource.keyword                         44162 non-null   object \n",
      " 6   screenSize                                    116023 non-null  object \n",
      " 7   geoCluster                                    116023 non-null  object \n",
      " 8   trafficSource.adwordsClickInfo.slot           4281 non-null    object \n",
      " 9   device.mobileDeviceBranding                   116023 non-null  object \n",
      " 10  device.mobileInputSelector                    116023 non-null  object \n",
      " 11  userId                                        116023 non-null  int64  \n",
      " 12  trafficSource.campaign                        116023 non-null  object \n",
      " 13  device.mobileDeviceMarketingName              116023 non-null  object \n",
      " 14  geoNetwork.networkDomain                      116023 non-null  object \n",
      " 15  gclIdPresent                                  116023 non-null  int64  \n",
      " 16  device.operatingSystemVersion                 116023 non-null  object \n",
      " 17  sessionNumber                                 116023 non-null  int64  \n",
      " 18  device.flashVersion                           116023 non-null  object \n",
      " 19  geoNetwork.region                             116023 non-null  object \n",
      " 20  trafficSource                                 116023 non-null  object \n",
      " 21  totals.visits                                 116023 non-null  int64  \n",
      " 22  geoNetwork.networkLocation                    116023 non-null  object \n",
      " 23  sessionId                                     116023 non-null  int64  \n",
      " 24  os                                            116023 non-null  object \n",
      " 25  geoNetwork.subContinent                       116023 non-null  object \n",
      " 26  trafficSource.medium                          116023 non-null  object \n",
      " 27  trafficSource.adwordsClickInfo.isVideoAd      4281 non-null    object \n",
      " 28  browserMajor                                  116023 non-null  object \n",
      " 29  locationCountry                               116023 non-null  object \n",
      " 30  device.browserSize                            116023 non-null  object \n",
      " 31  trafficSource.adwordsClickInfo.adNetworkType  4281 non-null    object \n",
      " 32  socialEngagementType                          116023 non-null  object \n",
      " 33  geoNetwork.city                               116023 non-null  object \n",
      " 34  trafficSource.adwordsClickInfo.page           4281 non-null    float64\n",
      " 35  geoNetwork.metro                              116023 non-null  object \n",
      " 36  pageViews                                     116015 non-null  float64\n",
      " 37  locationZone                                  116023 non-null  int64  \n",
      " 38  device.mobileDeviceModel                      116023 non-null  object \n",
      " 39  trafficSource.referralPath                    42714 non-null   object \n",
      " 40  totals.bounces                                47148 non-null   float64\n",
      " 41  date                                          116023 non-null  int64  \n",
      " 42  device.language                               116023 non-null  object \n",
      " 43  deviceType                                    116023 non-null  object \n",
      " 44  userChannel                                   116023 non-null  object \n",
      " 45  device.browserVersion                         116023 non-null  object \n",
      " 46  totalHits                                     116023 non-null  int64  \n",
      " 47  device.screenColors                           116023 non-null  object \n",
      " 48  sessionStart                                  116023 non-null  int64  \n",
      " 49  geoNetwork.continent                          116023 non-null  object \n",
      " 50  device.isMobile                               116023 non-null  bool   \n",
      " 51  new_visits                                    80518 non-null   float64\n",
      "dtypes: bool(1), float64(5), int64(9), object(37)\n",
      "memory usage: 45.3+ MB\n"
     ]
    }
   ],
   "source": [
    "train_df.info()"
   ]
  },
  {
   "cell_type": "code",
   "execution_count": 9,
   "id": "fb3f9957",
   "metadata": {
    "execution": {
     "iopub.execute_input": "2025-08-08T17:23:04.923528Z",
     "iopub.status.busy": "2025-08-08T17:23:04.923138Z",
     "iopub.status.idle": "2025-08-08T17:23:05.134209Z",
     "shell.execute_reply": "2025-08-08T17:23:05.133040Z"
    },
    "papermill": {
     "duration": 0.221554,
     "end_time": "2025-08-08T17:23:05.135993",
     "exception": false,
     "start_time": "2025-08-08T17:23:04.914439",
     "status": "completed"
    },
    "tags": []
   },
   "outputs": [
    {
     "data": {
      "text/plain": [
       "trafficSource.isTrueDirect                       73133\n",
       "purchaseValue                                        0\n",
       "browser                                              0\n",
       "device.screenResolution                              0\n",
       "trafficSource.adContent                         113060\n",
       "trafficSource.keyword                            71861\n",
       "screenSize                                           0\n",
       "geoCluster                                           0\n",
       "trafficSource.adwordsClickInfo.slot             111742\n",
       "device.mobileDeviceBranding                          0\n",
       "device.mobileInputSelector                           0\n",
       "userId                                               0\n",
       "trafficSource.campaign                               0\n",
       "device.mobileDeviceMarketingName                     0\n",
       "geoNetwork.networkDomain                             0\n",
       "gclIdPresent                                         0\n",
       "device.operatingSystemVersion                        0\n",
       "sessionNumber                                        0\n",
       "device.flashVersion                                  0\n",
       "geoNetwork.region                                    0\n",
       "trafficSource                                        0\n",
       "totals.visits                                        0\n",
       "geoNetwork.networkLocation                           0\n",
       "sessionId                                            0\n",
       "os                                                   0\n",
       "geoNetwork.subContinent                              0\n",
       "trafficSource.medium                                 0\n",
       "trafficSource.adwordsClickInfo.isVideoAd        111742\n",
       "browserMajor                                         0\n",
       "locationCountry                                      0\n",
       "device.browserSize                                   0\n",
       "trafficSource.adwordsClickInfo.adNetworkType    111742\n",
       "socialEngagementType                                 0\n",
       "geoNetwork.city                                      0\n",
       "trafficSource.adwordsClickInfo.page             111742\n",
       "geoNetwork.metro                                     0\n",
       "pageViews                                            8\n",
       "locationZone                                         0\n",
       "device.mobileDeviceModel                             0\n",
       "trafficSource.referralPath                       73309\n",
       "totals.bounces                                   68875\n",
       "date                                                 0\n",
       "device.language                                      0\n",
       "deviceType                                           0\n",
       "userChannel                                          0\n",
       "device.browserVersion                                0\n",
       "totalHits                                            0\n",
       "device.screenColors                                  0\n",
       "sessionStart                                         0\n",
       "geoNetwork.continent                                 0\n",
       "device.isMobile                                      0\n",
       "new_visits                                       35505\n",
       "dtype: int64"
      ]
     },
     "execution_count": 9,
     "metadata": {},
     "output_type": "execute_result"
    }
   ],
   "source": [
    "train_df.isnull().sum()"
   ]
  },
  {
   "cell_type": "markdown",
   "id": "76cde733",
   "metadata": {
    "papermill": {
     "duration": 0.007585,
     "end_time": "2025-08-08T17:23:05.151920",
     "exception": false,
     "start_time": "2025-08-08T17:23:05.144335",
     "status": "completed"
    },
    "tags": []
   },
   "source": [
    "# Graphs ( EDA )"
   ]
  },
  {
   "cell_type": "markdown",
   "id": "17b64adf",
   "metadata": {
    "papermill": {
     "duration": 0.007585,
     "end_time": "2025-08-08T17:23:05.167349",
     "exception": false,
     "start_time": "2025-08-08T17:23:05.159764",
     "status": "completed"
    },
    "tags": []
   },
   "source": [
    "In this step, we visualize the distribution of the target (`purchaseValue`) using histograms and boxplots.\n",
    "We also examine categorical features using bar plots and relationships between features and the target using scatter plots.\n",
    "Visualize target variable distribution\n",
    "Check category distribution for key features\n",
    "Generate correlation heatmap and plot numeric feature relationships"
   ]
  },
  {
   "cell_type": "code",
   "execution_count": 10,
   "id": "291e0d56",
   "metadata": {
    "execution": {
     "iopub.execute_input": "2025-08-08T17:23:05.184906Z",
     "iopub.status.busy": "2025-08-08T17:23:05.184586Z",
     "iopub.status.idle": "2025-08-08T17:23:06.182639Z",
     "shell.execute_reply": "2025-08-08T17:23:06.181813Z"
    },
    "papermill": {
     "duration": 1.0091,
     "end_time": "2025-08-08T17:23:06.184289",
     "exception": false,
     "start_time": "2025-08-08T17:23:05.175189",
     "status": "completed"
    },
    "tags": []
   },
   "outputs": [
    {
     "name": "stderr",
     "output_type": "stream",
     "text": [
      "/usr/local/lib/python3.11/dist-packages/seaborn/_oldcore.py:1119: FutureWarning: use_inf_as_na option is deprecated and will be removed in a future version. Convert inf values to NaN before operating instead.\n",
      "  with pd.option_context('mode.use_inf_as_na', True):\n"
     ]
    },
    {
     "data": {
      "image/png": "[encoded data removed]",
      "text/plain": [
       "<Figure size 800x400 with 1 Axes>"
      ]
     },
     "metadata": {},
     "output_type": "display_data"
    }
   ],
   "source": [
    "plt.figure(figsize=(8, 4))\n",
    "sns.histplot(train_df['purchaseValue'], bins=50, kde=True)\n",
    "plt.title(\"Histogram of Purchase Value\")\n",
    "plt.xlabel(\"purchaseValue\")\n",
    "plt.ylabel(\"Frequency\")\n",
    "plt.tight_layout()\n",
    "plt.show()"
   ]
  },
  {
   "cell_type": "markdown",
   "id": "b9b7dbd6",
   "metadata": {
    "papermill": {
     "duration": 0.007971,
     "end_time": "2025-08-08T17:23:06.200781",
     "exception": false,
     "start_time": "2025-08-08T17:23:06.192810",
     "status": "completed"
    },
    "tags": []
   },
   "source": [
    " 1. Histogram of purchaseValue\n",
    "Observation:\n",
    "\n",
    "The distribution of purchaseValue is highly right-skewed, with many sessions having low or zero value. A few sessions have significantly higher purchase values, indicating the presence of outliers."
   ]
  },
  {
   "cell_type": "code",
   "execution_count": 11,
   "id": "e079aa81",
   "metadata": {
    "execution": {
     "iopub.execute_input": "2025-08-08T17:23:06.219661Z",
     "iopub.status.busy": "2025-08-08T17:23:06.219313Z",
     "iopub.status.idle": "2025-08-08T17:23:06.398254Z",
     "shell.execute_reply": "2025-08-08T17:23:06.397168Z"
    },
    "papermill": {
     "duration": 0.190218,
     "end_time": "2025-08-08T17:23:06.399886",
     "exception": false,
     "start_time": "2025-08-08T17:23:06.209668",
     "status": "completed"
    },
    "tags": []
   },
   "outputs": [
    {
     "data": {
      "image/png": "[encoded data removed]",
      "text/plain": [
       "<Figure size 800x400 with 1 Axes>"
      ]
     },
     "metadata": {},
     "output_type": "display_data"
    }
   ],
   "source": [
    "plt.figure(figsize=(8, 4))\n",
    "sns.boxplot(x=train_df['purchaseValue'])\n",
    "plt.title(\"Boxplot of Purchase Value\")\n",
    "plt.xlabel(\"purchaseValue\")\n",
    "plt.tight_layout()\n",
    "plt.show()"
   ]
  },
  {
   "cell_type": "markdown",
   "id": "f79f5b75",
   "metadata": {
    "papermill": {
     "duration": 0.008729,
     "end_time": "2025-08-08T17:23:06.418065",
     "exception": false,
     "start_time": "2025-08-08T17:23:06.409336",
     "status": "completed"
    },
    "tags": []
   },
   "source": [
    "2. Boxplot of purchaseValue\n",
    "Observation:\n",
    "\n",
    "The boxplot confirms the presence of several outliers on the higher end. The majority of the purchase values are concentrated in the lower range, suggesting that most sessions result in low spending."
   ]
  },
  {
   "cell_type": "code",
   "execution_count": 12,
   "id": "bc413780",
   "metadata": {
    "execution": {
     "iopub.execute_input": "2025-08-08T17:23:06.437140Z",
     "iopub.status.busy": "2025-08-08T17:23:06.436775Z",
     "iopub.status.idle": "2025-08-08T17:23:06.654681Z",
     "shell.execute_reply": "2025-08-08T17:23:06.653595Z"
    },
    "papermill": {
     "duration": 0.230381,
     "end_time": "2025-08-08T17:23:06.657067",
     "exception": false,
     "start_time": "2025-08-08T17:23:06.426686",
     "status": "completed"
    },
    "tags": []
   },
   "outputs": [
    {
     "data": {
      "image/png": "[encoded data removed]",
      "text/plain": [
       "<Figure size 800x400 with 1 Axes>"
      ]
     },
     "metadata": {},
     "output_type": "display_data"
    }
   ],
   "source": [
    "plt.figure(figsize=(8, 4))\n",
    "sns.countplot(x='deviceType', data=train_df, order=train_df['deviceType'].value_counts().index[:10])\n",
    "plt.title(\"Bar Plot - Device Type Distribution\")\n",
    "plt.xticks(rotation=45)\n",
    "plt.tight_layout()\n",
    "plt.show()"
   ]
  },
  {
   "cell_type": "markdown",
   "id": "4a03e406",
   "metadata": {
    "papermill": {
     "duration": 0.010186,
     "end_time": "2025-08-08T17:23:06.678506",
     "exception": false,
     "start_time": "2025-08-08T17:23:06.668320",
     "status": "completed"
    },
    "tags": []
   },
   "source": [
    "3. Bar Plot of deviceType\n",
    "Observation:\n",
    "\n",
    "Most users accessed the platform using a desktop device, followed by mobile users. Other device types are used much less frequently, showing a clear device preference among users."
   ]
  },
  {
   "cell_type": "code",
   "execution_count": 13,
   "id": "106a5313",
   "metadata": {
    "execution": {
     "iopub.execute_input": "2025-08-08T17:23:06.766986Z",
     "iopub.status.busy": "2025-08-08T17:23:06.766591Z",
     "iopub.status.idle": "2025-08-08T17:23:07.219807Z",
     "shell.execute_reply": "2025-08-08T17:23:07.218854Z"
    },
    "papermill": {
     "duration": 0.466569,
     "end_time": "2025-08-08T17:23:07.221382",
     "exception": false,
     "start_time": "2025-08-08T17:23:06.754813",
     "status": "completed"
    },
    "tags": []
   },
   "outputs": [
    {
     "data": {
      "image/png": "[encoded data removed]",
      "text/plain": [
       "<Figure size 800x400 with 1 Axes>"
      ]
     },
     "metadata": {},
     "output_type": "display_data"
    }
   ],
   "source": [
    "plt.figure(figsize=(8, 4))\n",
    "sns.scatterplot(data=train_df, x='pageViews', y='purchaseValue')\n",
    "plt.title(\"Scatter Plot: pageViews vs purchaseValue\")\n",
    "plt.xlabel(\"pageViews\")\n",
    "plt.ylabel(\"purchaseValue\")\n",
    "plt.tight_layout()\n",
    "plt.show()"
   ]
  },
  {
   "cell_type": "markdown",
   "id": "4beded06",
   "metadata": {
    "papermill": {
     "duration": 0.010122,
     "end_time": "2025-08-08T17:23:07.241834",
     "exception": false,
     "start_time": "2025-08-08T17:23:07.231712",
     "status": "completed"
    },
    "tags": []
   },
   "source": [
    "4. Scatter Plot: pageViews vs purchaseValue\n",
    "Observation:\n",
    "\n",
    "There is a weak positive relationship between pageViews and purchaseValue. While higher page views can lead to higher purchases, the trend is not consistent — indicating that page views alone are not a strong predictor of purchase behavior."
   ]
  },
  {
   "cell_type": "markdown",
   "id": "a274549d",
   "metadata": {
    "papermill": {
     "duration": 0.010948,
     "end_time": "2025-08-08T17:23:07.264344",
     "exception": false,
     "start_time": "2025-08-08T17:23:07.253396",
     "status": "completed"
    },
    "tags": []
   },
   "source": [
    "# Data cleaning and Pre Processing"
   ]
  },
  {
   "cell_type": "markdown",
   "id": "0c1b7fad",
   "metadata": {
    "papermill": {
     "duration": 0.009781,
     "end_time": "2025-08-08T17:23:07.284373",
     "exception": false,
     "start_time": "2025-08-08T17:23:07.274592",
     "status": "completed"
    },
    "tags": []
   },
   "source": [
    "**We clean the data by dropping single value columns**\n",
    "\n",
    "Features with only one unique value do not contribute to the model and are dropped to reduce noise.\n",
    "Remove features with the same value across all rows as they provide no variability."
   ]
  },
  {
   "cell_type": "code",
   "execution_count": 14,
   "id": "1a0b208e",
   "metadata": {
    "execution": {
     "iopub.execute_input": "2025-08-08T17:23:07.306368Z",
     "iopub.status.busy": "2025-08-08T17:23:07.306076Z",
     "iopub.status.idle": "2025-08-08T17:23:07.881120Z",
     "shell.execute_reply": "2025-08-08T17:23:07.880010Z"
    },
    "papermill": {
     "duration": 0.588153,
     "end_time": "2025-08-08T17:23:07.883144",
     "exception": false,
     "start_time": "2025-08-08T17:23:07.294991",
     "status": "completed"
    },
    "tags": []
   },
   "outputs": [],
   "source": [
    "single_val_cols = train_df.nunique()[train_df.nunique() == 1].index.tolist()\n",
    "train_df.drop(columns=single_val_cols, inplace=True)\n",
    "test_df.drop(columns=single_val_cols, errors='ignore', inplace=True)\n"
   ]
  },
  {
   "cell_type": "markdown",
   "id": "f7ba1ae4",
   "metadata": {
    "papermill": {
     "duration": 0.00981,
     "end_time": "2025-08-08T17:23:07.903509",
     "exception": false,
     "start_time": "2025-08-08T17:23:07.893699",
     "status": "completed"
    },
    "tags": []
   },
   "source": [
    "**We set targer variables**\n",
    "\n",
    "In this step, we define our target variable `purchaseValue`, which represents the purchase made in a user session.\n",
    "We split the data into:\n",
    "**`X`** (features): all columns **except** the target\n",
    "**`y`** (target): the `purchaseValue` column"
   ]
  },
  {
   "cell_type": "code",
   "execution_count": 15,
   "id": "16877756",
   "metadata": {
    "execution": {
     "iopub.execute_input": "2025-08-08T17:23:07.925524Z",
     "iopub.status.busy": "2025-08-08T17:23:07.925157Z",
     "iopub.status.idle": "2025-08-08T17:23:07.957988Z",
     "shell.execute_reply": "2025-08-08T17:23:07.956953Z"
    },
    "papermill": {
     "duration": 0.046065,
     "end_time": "2025-08-08T17:23:07.959729",
     "exception": false,
     "start_time": "2025-08-08T17:23:07.913664",
     "status": "completed"
    },
    "tags": []
   },
   "outputs": [],
   "source": [
    "target = 'purchaseValue'\n",
    "X = train_df.drop(columns=[target])\n",
    "y = train_df[target]"
   ]
  },
  {
   "cell_type": "markdown",
   "id": "f140c6c1",
   "metadata": {
    "papermill": {
     "duration": 0.010489,
     "end_time": "2025-08-08T17:23:07.980297",
     "exception": false,
     "start_time": "2025-08-08T17:23:07.969808",
     "status": "completed"
    },
    "tags": []
   },
   "source": [
    "we categorize the features into:\n",
    "**Numerical columns**: Columns with data types `int64`, `float64`, or `bool`\n",
    "**Categorical columns**: Columns with data type `object`\n",
    "\n",
    "This separation helps in applying different preprocessing strategies to each type (e.g., scaling numerics, encoding categoricals) during pipeline setup."
   ]
  },
  {
   "cell_type": "code",
   "execution_count": 16,
   "id": "affa8a1f",
   "metadata": {
    "execution": {
     "iopub.execute_input": "2025-08-08T17:23:08.002188Z",
     "iopub.status.busy": "2025-08-08T17:23:08.001852Z",
     "iopub.status.idle": "2025-08-08T17:23:08.040144Z",
     "shell.execute_reply": "2025-08-08T17:23:08.039076Z"
    },
    "papermill": {
     "duration": 0.051311,
     "end_time": "2025-08-08T17:23:08.042015",
     "exception": false,
     "start_time": "2025-08-08T17:23:07.990704",
     "status": "completed"
    },
    "tags": []
   },
   "outputs": [],
   "source": [
    "numeric_cols = X.select_dtypes(include=['int64', 'float64', 'bool']).columns.tolist()\n",
    "categorical_cols = X.select_dtypes(include=['object']).columns.tolist()"
   ]
  },
  {
   "cell_type": "markdown",
   "id": "0428fe3c",
   "metadata": {
    "papermill": {
     "duration": 0.009732,
     "end_time": "2025-08-08T17:23:08.061964",
     "exception": false,
     "start_time": "2025-08-08T17:23:08.052232",
     "status": "completed"
    },
    "tags": []
   },
   "source": [
    "**Feature Selection Strategy**\n",
    "\n",
    "We classified categorical columns based on their number of unique values:\n",
    "Columns with **≤10 unique values** were treated as **low-cardinality**, suitable for One-Hot Encoding.\n",
    "Columns with **>10 unique values** were excluded from direct encoding due to high cardinality, which can lead to sparse and overfit models.\n",
    "\n",
    "We combined:\n",
    "`numeric_cols` + `ohe_cols`  \n",
    "to build our final `selected_features` list.  \n",
    "This selection ensures only meaningful, manageable features are passed into the pipeline.\n"
   ]
  },
  {
   "cell_type": "code",
   "execution_count": 17,
   "id": "42d2103d",
   "metadata": {
    "execution": {
     "iopub.execute_input": "2025-08-08T17:23:08.083056Z",
     "iopub.status.busy": "2025-08-08T17:23:08.082705Z",
     "iopub.status.idle": "2025-08-08T17:23:08.344279Z",
     "shell.execute_reply": "2025-08-08T17:23:08.343308Z"
    },
    "papermill": {
     "duration": 0.27431,
     "end_time": "2025-08-08T17:23:08.346127",
     "exception": false,
     "start_time": "2025-08-08T17:23:08.071817",
     "status": "completed"
    },
    "tags": []
   },
   "outputs": [],
   "source": [
    "ohe_cols = [col for col in categorical_cols if X[col].nunique() <= 10]\n",
    "exclude_cols = [col for col in categorical_cols if X[col].nunique() > 10]\n",
    "\n",
    "selected_features = numeric_cols + ohe_cols\n",
    "X = X[selected_features]\n",
    "test_X = test_df[selected_features]"
   ]
  },
  {
   "cell_type": "markdown",
   "id": "924f0239",
   "metadata": {
    "papermill": {
     "duration": 0.009848,
     "end_time": "2025-08-08T17:23:08.366075",
     "exception": false,
     "start_time": "2025-08-08T17:23:08.356227",
     "status": "completed"
    },
    "tags": []
   },
   "source": [
    "**Preprocessing Pipeline**\n",
    "\n",
    "We build a preprocessing pipeline using `ColumnTransformer` to apply appropriate transformations to different types of columns:\n",
    "\n",
    "**Numeric columns** (`numeric_cols`):\n",
    "Missing values are imputed using the **median** strategy.\n",
    "  \n",
    "**Categorical columns** (`ohe_cols`):\n",
    "Missing values are imputed using the **most frequent** category.\n",
    "Then, encoded using **OneHotEncoder** to convert categories into binary columns.\n",
    "\n",
    "Both pipelines are wrapped into a single `ColumnTransformer` named `preprocessor`, which ensures the right preprocessing is applied to each column group during model training.\n"
   ]
  },
  {
   "cell_type": "code",
   "execution_count": 18,
   "id": "9389c1db",
   "metadata": {
    "execution": {
     "iopub.execute_input": "2025-08-08T17:23:08.387971Z",
     "iopub.status.busy": "2025-08-08T17:23:08.387625Z",
     "iopub.status.idle": "2025-08-08T17:23:08.393875Z",
     "shell.execute_reply": "2025-08-08T17:23:08.392702Z"
    },
    "papermill": {
     "duration": 0.019845,
     "end_time": "2025-08-08T17:23:08.395753",
     "exception": false,
     "start_time": "2025-08-08T17:23:08.375908",
     "status": "completed"
    },
    "tags": []
   },
   "outputs": [],
   "source": [
    "numeric_transformer = Pipeline(steps=[\n",
    "    ('imputer', SimpleImputer(strategy='median'))\n",
    "])\n",
    "\n",
    "categorical_transformer = Pipeline(steps=[\n",
    "    ('imputer', SimpleImputer(strategy='most_frequent')),\n",
    "    ('encoder', OneHotEncoder(handle_unknown='ignore', sparse_output=False))\n",
    "])\n",
    "\n",
    "preprocessor = ColumnTransformer(transformers=[\n",
    "    ('num', numeric_transformer, numeric_cols),\n",
    "    ('cat', categorical_transformer, ohe_cols)\n",
    "])\n"
   ]
  },
  {
   "cell_type": "markdown",
   "id": "447b8e45",
   "metadata": {
    "papermill": {
     "duration": 0.010373,
     "end_time": "2025-08-08T17:23:08.416384",
     "exception": false,
     "start_time": "2025-08-08T17:23:08.406011",
     "status": "completed"
    },
    "tags": []
   },
   "source": [
    "# Model Building"
   ]
  },
  {
   "cell_type": "markdown",
   "id": "b3782742",
   "metadata": {
    "papermill": {
     "duration": 0.009818,
     "end_time": "2025-08-08T17:23:08.437273",
     "exception": false,
     "start_time": "2025-08-08T17:23:08.427455",
     "status": "completed"
    },
    "tags": []
   },
   "source": [
    "**We chose models and assign the no of estinators , random state and other parameters**"
   ]
  },
  {
   "cell_type": "markdown",
   "id": "443ce849",
   "metadata": {
    "papermill": {
     "duration": 0.010014,
     "end_time": "2025-08-08T17:23:08.457241",
     "exception": false,
     "start_time": "2025-08-08T17:23:08.447227",
     "status": "completed"
    },
    "tags": []
   },
   "source": [
    "We compare multiple regression models:\n",
    "LinearRegression: baseline model\n",
    "Ridge: regularized linear model\n",
    "RandomForest: tree-based ensemble model\n",
    "XGBoost: advanced gradient boosting model"
   ]
  },
  {
   "cell_type": "code",
   "execution_count": 19,
   "id": "357c4879",
   "metadata": {
    "execution": {
     "iopub.execute_input": "2025-08-08T17:23:08.479280Z",
     "iopub.status.busy": "2025-08-08T17:23:08.478321Z",
     "iopub.status.idle": "2025-08-08T17:23:08.483931Z",
     "shell.execute_reply": "2025-08-08T17:23:08.482785Z"
    },
    "papermill": {
     "duration": 0.018365,
     "end_time": "2025-08-08T17:23:08.485672",
     "exception": false,
     "start_time": "2025-08-08T17:23:08.467307",
     "status": "completed"
    },
    "tags": []
   },
   "outputs": [],
   "source": [
    "models = {\n",
    "    \"Linear Regression\": LinearRegression(),\n",
    "    \"Ridge Regression\": Ridge(alpha=1.0),\n",
    "    \"Random Forest\": RandomForestRegressor(n_estimators=100, random_state=42, n_jobs=-1),\n",
    "    \"XGBoost\": XGBRegressor(n_estimators=100, random_state=42, verbosity=0, n_jobs=-1) }"
   ]
  },
  {
   "cell_type": "markdown",
   "id": "1cf61438",
   "metadata": {
    "papermill": {
     "duration": 0.009894,
     "end_time": "2025-08-08T17:23:08.505766",
     "exception": false,
     "start_time": "2025-08-08T17:23:08.495872",
     "status": "completed"
    },
    "tags": []
   },
   "source": [
    "Linear Regression - It assumes that there's a straight-line relationship between the features and the target ( y = mx + c )\n",
    "\n",
    "Ridge is just like Linear Regression but adds a penalty to the loss function to avoid overfitting.\n",
    "\n",
    "Random Forest is a combination model , it bags and builds many decision trees, each on a different random subset of data and features, and then averages their predictions . It reduces variance hence to avoid over fitting.\n",
    "\n",
    "XGBoost is a boosting model, so it builds trees one after another, where each new tree tries to fix the errors of the previous ones. It’s smarter and more optimized than Random Forest"
   ]
  },
  {
   "cell_type": "markdown",
   "id": "0a80f879",
   "metadata": {
    "papermill": {
     "duration": 0.009725,
     "end_time": "2025-08-08T17:23:08.525915",
     "exception": false,
     "start_time": "2025-08-08T17:23:08.516190",
     "status": "completed"
    },
    "tags": []
   },
   "source": [
    "**We chose the best model**"
   ]
  },
  {
   "cell_type": "code",
   "execution_count": 20,
   "id": "efc679f8",
   "metadata": {
    "execution": {
     "iopub.execute_input": "2025-08-08T17:23:08.547613Z",
     "iopub.status.busy": "2025-08-08T17:23:08.547227Z",
     "iopub.status.idle": "2025-08-08T17:26:04.546129Z",
     "shell.execute_reply": "2025-08-08T17:26:04.542759Z"
    },
    "papermill": {
     "duration": 176.022374,
     "end_time": "2025-08-08T17:26:04.558410",
     "exception": false,
     "start_time": "2025-08-08T17:23:08.536036",
     "status": "completed"
    },
    "tags": []
   },
   "outputs": [
    {
     "name": "stderr",
     "output_type": "stream",
     "text": [
      "/usr/local/lib/python3.11/dist-packages/sklearn/linear_model/_ridge.py:216: LinAlgWarning: Ill-conditioned matrix (rcond=2.24139e-20): result may not be accurate.\n",
      "  return linalg.solve(A, Xy, assume_a=\"pos\", overwrite_a=True).T\n",
      "/usr/local/lib/python3.11/dist-packages/sklearn/linear_model/_ridge.py:216: LinAlgWarning: Ill-conditioned matrix (rcond=2.24689e-20): result may not be accurate.\n",
      "  return linalg.solve(A, Xy, assume_a=\"pos\", overwrite_a=True).T\n",
      "/usr/local/lib/python3.11/dist-packages/sklearn/linear_model/_ridge.py:216: LinAlgWarning: Ill-conditioned matrix (rcond=2.25998e-20): result may not be accurate.\n",
      "  return linalg.solve(A, Xy, assume_a=\"pos\", overwrite_a=True).T\n",
      "/usr/local/lib/python3.11/dist-packages/sklearn/linear_model/_ridge.py:216: LinAlgWarning: Ill-conditioned matrix (rcond=2.24186e-20): result may not be accurate.\n",
      "  return linalg.solve(A, Xy, assume_a=\"pos\", overwrite_a=True).T\n",
      "/usr/local/lib/python3.11/dist-packages/sklearn/linear_model/_ridge.py:216: LinAlgWarning: Ill-conditioned matrix (rcond=2.2532e-20): result may not be accurate.\n",
      "  return linalg.solve(A, Xy, assume_a=\"pos\", overwrite_a=True).T\n"
     ]
    },
    {
     "name": "stdout",
     "output_type": "stream",
     "text": [
      "\n",
      "Model Performance (R2 Score):\n",
      "\n",
      "                   R2 Mean  R2 Std\n",
      "Random Forest       0.4176  0.1546\n",
      "XGBoost             0.2248  0.1245\n",
      "Ridge Regression    0.1073  0.0196\n",
      "Linear Regression   0.1073  0.0196\n"
     ]
    }
   ],
   "source": [
    "results = {}\n",
    "for name, model in models.items():\n",
    "    pipe = Pipeline(steps=[\n",
    "        ('preprocessor', preprocessor),\n",
    "        ('model', model)\n",
    "    ])\n",
    "    scores = cross_val_score(pipe, X, y, cv=5, scoring='r2')\n",
    "    results[name] = {\n",
    "        \"R2 Mean\": np.mean(scores),\n",
    "        \"R2 Std\": np.std(scores)\n",
    "    }\n",
    "\n",
    "results_df = pd.DataFrame(results).T.sort_values(\"R2 Mean\", ascending=False)\n",
    "print(\"\\nModel Performance (R2 Score):\\n\")\n",
    "print(results_df.round(4))"
   ]
  },
  {
   "cell_type": "markdown",
   "id": "c6bff0cc",
   "metadata": {
    "papermill": {
     "duration": 0.010055,
     "end_time": "2025-08-08T17:26:04.579082",
     "exception": false,
     "start_time": "2025-08-08T17:26:04.569027",
     "status": "completed"
    },
    "tags": []
   },
   "source": [
    "# Hyperparameter"
   ]
  },
  {
   "cell_type": "markdown",
   "id": "85413a76",
   "metadata": {
    "papermill": {
     "duration": 0.010387,
     "end_time": "2025-08-08T17:26:04.599528",
     "exception": false,
     "start_time": "2025-08-08T17:26:04.589141",
     "status": "completed"
    },
    "tags": []
   },
   "source": [
    "A hyperparameter is like a pre defined setting that we choose before training the model.\n",
    "It controls how the model learns like how complex (iterations) it can get, or how fast the model learns ."
   ]
  },
  {
   "cell_type": "markdown",
   "id": "47f4548a",
   "metadata": {
    "papermill": {
     "duration": 0.009905,
     "end_time": "2025-08-08T17:26:04.619668",
     "exception": false,
     "start_time": "2025-08-08T17:26:04.609763",
     "status": "completed"
    },
    "tags": []
   },
   "source": [
    "**We perform Hyperparameter to choose the best model**\n",
    "\n",
    "we use RandomizedSearchCV to optimize the performance of our XGBoost model. Instead of manually setting parameters, we define a parameter grid and let the search algorithm find the best combination based on cross-validated R² score."
   ]
  },
  {
   "cell_type": "code",
   "execution_count": 21,
   "id": "820b69c4",
   "metadata": {
    "execution": {
     "iopub.execute_input": "2025-08-08T17:26:04.641821Z",
     "iopub.status.busy": "2025-08-08T17:26:04.641448Z",
     "iopub.status.idle": "2025-08-08T17:29:14.139316Z",
     "shell.execute_reply": "2025-08-08T17:29:14.138524Z"
    },
    "papermill": {
     "duration": 189.524507,
     "end_time": "2025-08-08T17:29:14.154607",
     "exception": false,
     "start_time": "2025-08-08T17:26:04.630100",
     "status": "completed"
    },
    "tags": []
   },
   "outputs": [
    {
     "name": "stdout",
     "output_type": "stream",
     "text": [
      "Fitting 5 folds for each of 20 candidates, totalling 100 fits\n",
      "\n",
      "Best R2 Score from Tuning: 0.4598\n",
      "Best Parameters: {'regressor__colsample_bytree': 0.6571467271687763, 'regressor__learning_rate': 0.14017769458977059, 'regressor__max_depth': 7, 'regressor__n_estimators': 357, 'regressor__subsample': 0.8887995089067299}\n"
     ]
    }
   ],
   "source": [
    "from sklearn.model_selection import RandomizedSearchCV\n",
    "from scipy.stats import randint, uniform\n",
    "from xgboost import XGBRegressor\n",
    "from sklearn.pipeline import Pipeline\n",
    "\n",
    "xgb_pipeline = Pipeline(steps=[\n",
    "    ('preprocessor', preprocessor),\n",
    "    ('regressor', XGBRegressor(random_state=42, verbosity=0, n_jobs=-1))\n",
    "])\n",
    "\n",
    "param_dist = {\n",
    "    'regressor__n_estimators': randint(100, 500),\n",
    "    'regressor__max_depth': randint(3, 10),\n",
    "    'regressor__learning_rate': uniform(0.01, 0.2),\n",
    "    'regressor__subsample': uniform(0.6, 0.4),\n",
    "    'regressor__colsample_bytree': uniform(0.6, 0.4)\n",
    "}\n",
    "\n",
    "search = RandomizedSearchCV(\n",
    "    xgb_pipeline,\n",
    "    param_distributions=param_dist,\n",
    "    n_iter=20,\n",
    "    cv=5,\n",
    "    scoring='r2',\n",
    "    n_jobs=-1,\n",
    "    verbose=1,\n",
    "    random_state=42\n",
    ")\n",
    "\n",
    "search.fit(X, y)\n",
    "print(\"\\nBest R2 Score from Tuning:\", round(search.best_score_, 4))\n",
    "print(\"Best Parameters:\", search.best_params_)"
   ]
  },
  {
   "cell_type": "markdown",
   "id": "6a864eab",
   "metadata": {
    "papermill": {
     "duration": 0.010635,
     "end_time": "2025-08-08T17:29:14.176204",
     "exception": false,
     "start_time": "2025-08-08T17:29:14.165569",
     "status": "completed"
    },
    "tags": []
   },
   "source": [
    "**We select the final Model**\n",
    "\n",
    "he best model is retrained on the full dataset and used to predict on the test set.\n",
    "Predictions are inverse-transformed from log scale using `np.expm1()` and written to a CSV file in required format."
   ]
  },
  {
   "cell_type": "code",
   "execution_count": 22,
   "id": "6b3e26ee",
   "metadata": {
    "execution": {
     "iopub.execute_input": "2025-08-08T17:29:14.200252Z",
     "iopub.status.busy": "2025-08-08T17:29:14.199325Z",
     "iopub.status.idle": "2025-08-08T17:29:17.916079Z",
     "shell.execute_reply": "2025-08-08T17:29:17.914970Z"
    },
    "papermill": {
     "duration": 3.730306,
     "end_time": "2025-08-08T17:29:17.918089",
     "exception": false,
     "start_time": "2025-08-08T17:29:14.187783",
     "status": "completed"
    },
    "tags": []
   },
   "outputs": [
    {
     "data": {
      "text/plain": [
       "array([25706618.  ,  -538140.5 , -2430173.5 , ..., 21712600.  ,\n",
       "        -372325.75,  1120466.9 ], dtype=float32)"
      ]
     },
     "execution_count": 22,
     "metadata": {},
     "output_type": "execute_result"
    }
   ],
   "source": [
    "final_model = search.best_estimator_\n",
    "final_model.fit(X, y)\n",
    "preds = final_model.predict(test_X)\n",
    "preds"
   ]
  },
  {
   "cell_type": "markdown",
   "id": "d58f370b",
   "metadata": {
    "papermill": {
     "duration": 0.010345,
     "end_time": "2025-08-08T17:29:17.941418",
     "exception": false,
     "start_time": "2025-08-08T17:29:17.931073",
     "status": "completed"
    },
    "tags": []
   },
   "source": [
    "# Final Submission file"
   ]
  },
  {
   "cell_type": "code",
   "execution_count": 23,
   "id": "27e5118f",
   "metadata": {
    "execution": {
     "iopub.execute_input": "2025-08-08T17:29:17.964184Z",
     "iopub.status.busy": "2025-08-08T17:29:17.963767Z",
     "iopub.status.idle": "2025-08-08T17:29:21.782431Z",
     "shell.execute_reply": "2025-08-08T17:29:21.780869Z"
    },
    "papermill": {
     "duration": 3.832368,
     "end_time": "2025-08-08T17:29:21.784297",
     "exception": false,
     "start_time": "2025-08-08T17:29:17.951929",
     "status": "completed"
    },
    "tags": []
   },
   "outputs": [
    {
     "name": "stdout",
     "output_type": "stream",
     "text": [
      "\n",
      "submission.csv created successfully.\n"
     ]
    }
   ],
   "source": [
    "final_model = search.best_estimator_\n",
    "final_model.fit(X, y)\n",
    "preds = final_model.predict(test_X)\n",
    "\n",
    "submission = pd.DataFrame({\n",
    "    'id': sample_submission['ID'],\n",
    "    'purchaseValue': preds\n",
    "})\n",
    "submission.to_csv(\"submission.csv\", index=False)\n",
    "print(\"\\nsubmission.csv created successfully.\")"
   ]
  }
 ],
 "metadata": {
  "kaggle": {
   "accelerator": "none",
   "dataSources": [
    {
     "databundleVersionId": 11895149,
     "sourceId": 99546,
     "sourceType": "competition"
    }
   ],
   "dockerImageVersionId": 31040,
   "isGpuEnabled": false,
   "isInternetEnabled": true,
   "language": "python",
   "sourceType": "notebook"
  },
  "kernelspec": {
   "display_name": "Python 3",
   "language": "python",
   "name": "python3"
  },
  "language_info": {
   "codemirror_mode": {
    "name": "ipython",
    "version": 3
   },
   "file_extension": ".py",
   "mimetype": "text/x-python",
   "name": "python",
   "nbconvert_exporter": "python",
   "pygments_lexer": "ipython3",
   "version": "3.11.11"
  },
  "papermill": {
   "default_parameters": {},
   "duration": 395.534416,
   "end_time": "2025-08-08T17:29:24.421519",
   "environment_variables": {},
   "exception": null,
   "input_path": "__notebook__.ipynb",
   "output_path": "__notebook__.ipynb",
   "parameters": {},
   "start_time": "2025-08-08T17:22:48.887103",
   "version": "2.6.0"
  }
 },
 "nbformat": 4,
 "nbformat_minor": 5
}
